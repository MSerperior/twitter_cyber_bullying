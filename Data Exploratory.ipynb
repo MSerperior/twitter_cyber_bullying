{
 "cells": [
  {
   "cell_type": "markdown",
   "metadata": {},
   "source": [
    "# Import Library"
   ]
  },
  {
   "cell_type": "code",
   "execution_count": 2,
   "metadata": {},
   "outputs": [],
   "source": [
    "import pandas as pd"
   ]
  },
  {
   "cell_type": "markdown",
   "metadata": {},
   "source": [
    "# Get and Explore The Data"
   ]
  },
  {
   "cell_type": "code",
   "execution_count": 3,
   "metadata": {},
   "outputs": [
    {
     "data": {
      "text/html": [
       "<div>\n",
       "<style scoped>\n",
       "    .dataframe tbody tr th:only-of-type {\n",
       "        vertical-align: middle;\n",
       "    }\n",
       "\n",
       "    .dataframe tbody tr th {\n",
       "        vertical-align: top;\n",
       "    }\n",
       "\n",
       "    .dataframe thead th {\n",
       "        text-align: right;\n",
       "    }\n",
       "</style>\n",
       "<table border=\"1\" class=\"dataframe\">\n",
       "  <thead>\n",
       "    <tr style=\"text-align: right;\">\n",
       "      <th></th>\n",
       "      <th>tweet_text</th>\n",
       "      <th>cyberbullying_type</th>\n",
       "    </tr>\n",
       "  </thead>\n",
       "  <tbody>\n",
       "    <tr>\n",
       "      <th>0</th>\n",
       "      <td>In other words #katandandre, your food was cra...</td>\n",
       "      <td>not_cyberbullying</td>\n",
       "    </tr>\n",
       "    <tr>\n",
       "      <th>1</th>\n",
       "      <td>Why is #aussietv so white? #MKR #theblock #ImA...</td>\n",
       "      <td>not_cyberbullying</td>\n",
       "    </tr>\n",
       "    <tr>\n",
       "      <th>2</th>\n",
       "      <td>@XochitlSuckkks a classy whore? Or more red ve...</td>\n",
       "      <td>not_cyberbullying</td>\n",
       "    </tr>\n",
       "    <tr>\n",
       "      <th>3</th>\n",
       "      <td>@Jason_Gio meh. :P  thanks for the heads up, b...</td>\n",
       "      <td>not_cyberbullying</td>\n",
       "    </tr>\n",
       "    <tr>\n",
       "      <th>4</th>\n",
       "      <td>@RudhoeEnglish This is an ISIS account pretend...</td>\n",
       "      <td>not_cyberbullying</td>\n",
       "    </tr>\n",
       "  </tbody>\n",
       "</table>\n",
       "</div>"
      ],
      "text/plain": [
       "                                          tweet_text cyberbullying_type\n",
       "0  In other words #katandandre, your food was cra...  not_cyberbullying\n",
       "1  Why is #aussietv so white? #MKR #theblock #ImA...  not_cyberbullying\n",
       "2  @XochitlSuckkks a classy whore? Or more red ve...  not_cyberbullying\n",
       "3  @Jason_Gio meh. :P  thanks for the heads up, b...  not_cyberbullying\n",
       "4  @RudhoeEnglish This is an ISIS account pretend...  not_cyberbullying"
      ]
     },
     "execution_count": 3,
     "metadata": {},
     "output_type": "execute_result"
    }
   ],
   "source": [
    "df = pd.read_csv('data/cyberbullying_tweets.csv')\n",
    "df.head()"
   ]
  },
  {
   "cell_type": "code",
   "execution_count": 4,
   "metadata": {},
   "outputs": [],
   "source": [
    "df['word_count'] = df['tweet_text'].apply(lambda x: len(str(x).split(\" \")))"
   ]
  },
  {
   "cell_type": "code",
   "execution_count": 5,
   "metadata": {},
   "outputs": [
    {
     "name": "stdout",
     "output_type": "stream",
     "text": [
      "<class 'pandas.core.frame.DataFrame'>\n",
      "RangeIndex: 47692 entries, 0 to 47691\n",
      "Data columns (total 3 columns):\n",
      " #   Column              Non-Null Count  Dtype \n",
      "---  ------              --------------  ----- \n",
      " 0   tweet_text          47692 non-null  object\n",
      " 1   cyberbullying_type  47692 non-null  object\n",
      " 2   word_count          47692 non-null  int64 \n",
      "dtypes: int64(1), object(2)\n",
      "memory usage: 1.1+ MB\n"
     ]
    }
   ],
   "source": [
    "df.info()"
   ]
  },
  {
   "cell_type": "code",
   "execution_count": 6,
   "metadata": {},
   "outputs": [
    {
     "data": {
      "text/plain": [
       "cyberbullying_type\n",
       "religion               7998\n",
       "age                    7992\n",
       "gender                 7973\n",
       "ethnicity              7961\n",
       "not_cyberbullying      7945\n",
       "other_cyberbullying    7823\n",
       "Name: count, dtype: int64"
      ]
     },
     "execution_count": 6,
     "metadata": {},
     "output_type": "execute_result"
    }
   ],
   "source": [
    "df['cyberbullying_type'].value_counts()"
   ]
  },
  {
   "cell_type": "code",
   "execution_count": 7,
   "metadata": {},
   "outputs": [
    {
     "data": {
      "text/plain": [
       "count    47692.000000\n",
       "mean        23.734505\n",
       "std         15.263513\n",
       "min          1.000000\n",
       "25%         13.000000\n",
       "50%         21.000000\n",
       "75%         32.000000\n",
       "max        737.000000\n",
       "Name: word_count, dtype: float64"
      ]
     },
     "execution_count": 7,
     "metadata": {},
     "output_type": "execute_result"
    }
   ],
   "source": [
    "df['word_count'].describe()"
   ]
  },
  {
   "cell_type": "code",
   "execution_count": 8,
   "metadata": {},
   "outputs": [
    {
     "data": {
      "text/plain": [
       "<Axes: ylabel='Frequency'>"
      ]
     },
     "execution_count": 8,
     "metadata": {},
     "output_type": "execute_result"
    },
    {
     "data": {
      "image/png": "[encoded data removed]",
      "text/plain": [
       "<Figure size 640x480 with 1 Axes>"
      ]
     },
     "metadata": {},
     "output_type": "display_data"
    }
   ],
   "source": [
    "df['word_count'].plot(\n",
    "    kind='hist',\n",
    "    bins=50,\n",
    ")"
   ]
  },
  {
   "cell_type": "code",
   "execution_count": 19,
   "metadata": {},
   "outputs": [
    {
     "name": "stdout",
     "output_type": "stream",
     "text": [
      "Go jac n Shaz, looks great #mkr\n",
      "\n",
      "This yogurt made my morningg :)\n",
      "\n",
      "Bubble and squeak for breakfast..are you mad? #mkr\n",
      "\n",
      "Annie and Lloyd: \"vote\" is. It pronounced \"voite\". #mkr\n",
      "\n",
      "@__QN i work monday 2-7, yayyy i get to see you again :) this is more than i saw you at school :O\n",
      "\n",
      "RT @waxpancake: Awww, Vivek made a new friend! http://t.co/B482drk2pN\n",
      "\n",
      "Nome: Cantinho do sofá | Função: Praticar bullying contra meu dedinho. http://t.co/IdB3frq\n",
      "\n",
      "#50factsaboutme I always feel like my \"friends\" just pretend to like me because they only talk to me in school\n",
      "\n",
      "Bullying felino http://t.co/h3lUhN7\n",
      "\n",
      "Today in 1910  Dr. Crippen is convicted at the Old Bailey of poisoning his wife and is subsequently hanged at Pentonville Prison in London.\n",
      "\n",
      "@BJB_22 Of course you can. Do you go to school wit Eddie?\n",
      "\n",
      "@puzzle_oni having a baby doesn't end your world.And none of the young mums I know were thinking about how they were gonna be yummy mummies!\n",
      "\n",
      "Thats bullying unghh!\n",
      "\n",
      "@NATgotemall never that not me lls\n",
      "\n",
      "I can't believe people are still surprised that Annie and Lloyd can't cook! #mkr\n",
      "\n",
      "@nitin yes, absolutely. Almost exclusively used against women that are arguing against men.\n",
      "\n",
      "@RodrigoToller_ @20matarcom1tiro se ele colocou minha ft no twitpic me autorizou a cometer bullying Lei nº 930138978947324\n",
      "\n",
      "Reserve game is cancelled so that means I'm sitting on the bench the rest of the year\n",
      "\n",
      "Birdman is more racist, misogynist trash masquerading as high art. Skip.\n",
      "\n",
      "@Zillytbh @leighalexander oh shit, i accidentally blocked you. whoops.\n",
      "\n",
      "@cheeseplus yeah. i'm kind of feeling like for what i'm doing, wsp is ok. for doing more granular monitoring, redis would be good.\n",
      "\n",
      "@dampscot yup, i'm aware. :)\n",
      "\n",
      "I hate art. It's my hardest class.\n",
      "\n",
      "Hello birthday week!\n",
      "\n",
      "Here's an idea. How about the ability to mute someone for N period of time?\n",
      "\n"
     ]
    }
   ],
   "source": [
    "i = 250\n",
    "for text in df['tweet_text'][i:i+25]:\n",
    "    print(text, end='\\n\\n')"
   ]
  },
  {
   "cell_type": "code",
   "execution_count": 10,
   "metadata": {},
   "outputs": [],
   "source": [
    "# contains English words\n",
    "example_english_words = [\"You look like a gypsy. Sorry I'm not sorry.\",\n",
    "                         \"Me and @LaDyMavV11 stay on instagram and twitter in this class!!\"\n",
    "                         ]\n",
    "\n",
    "# contains non-English latin words\n",
    "example_non_english_words = [\"Itu sekolah ya bukan tempat bully! Ga jauh kaya neraka\",\n",
    "                            \"Bullying : Quando você esta no onibus e tem um lugar vago no seu lado e as pessoas preferem ficar em pé\"]\n"
   ]
  },
  {
   "cell_type": "code",
   "execution_count": 11,
   "metadata": {},
   "outputs": [],
   "source": [
    "#contains username\n",
    "example_usernames = [\"@stockputout everything but mostly my priest\",\n",
    "                     \"@_MacaAlejandra @xsiempreJcyFer @camiiHidalgo_ Oigan , me Siento discriminada :'c me hacen Bulling aaaag* Las Denunciare xd\"]"
   ]
  },
  {
   "cell_type": "code",
   "execution_count": 12,
   "metadata": {},
   "outputs": [],
   "source": [
    "#contains URL\n",
    "example_urls = [\"The Bully flushes on KD http://twitvid.com/A2TNP\"]"
   ]
  },
  {
   "cell_type": "code",
   "execution_count": 13,
   "metadata": {},
   "outputs": [],
   "source": [
    "#contains hashtag\n",
    "example_hastags = [\"I hope this round humbled the girls, they can't cook #MKR\"]"
   ]
  },
  {
   "cell_type": "code",
   "execution_count": 14,
   "metadata": {},
   "outputs": [],
   "source": [
    "#contains html_special_character\n",
    "example_html_special_characters = [\"@MileyCyrus @JuliaAllynn no, you are ahhhhhmazing! &lt;3\"]"
   ]
  },
  {
   "cell_type": "code",
   "execution_count": 15,
   "metadata": {},
   "outputs": [],
   "source": [
    "#contains symbol\n",
    "example_symbols = [\"Education Nation: Bullying | Turn to 10 http://t.co/sxTIWtp\"]"
   ]
  },
  {
   "cell_type": "code",
   "execution_count": null,
   "metadata": {},
   "outputs": [],
   "source": [
    "#contains acronym\n",
    "example_acronyms = [\"@LifeInKhilafah ROFL.  Where is Kobani in the picture? Answer - they have lost it.\"]"
   ]
  },
  {
   "cell_type": "code",
   "execution_count": null,
   "metadata": {},
   "outputs": [],
   "source": [
    "#contains emoticon\n",
    "example_emoticons = [\"@LifeInKhilafah ROFL.  Where is Kobani in the picture? Answer - they have lost it. :)\",\n",
    "                     \"@RodGarraud @conivergara perdoname :( no puedo vivir sin hacer bullying es parte de mi! jajajajaja\"]"
   ]
  },
  {
   "cell_type": "code",
   "execution_count": null,
   "metadata": {},
   "outputs": [],
   "source": [
    "#contains number\n",
    "example_numbers = [\"@RodGarraud @conivergara perdoname :( no puedo vivir sin hacer bullying es parte de mi! jajajajaja 123\"\n",
    "                   \"Michelle ( Heartless Bitch) Bachman WON'T Sign Anti-bullying law Cause She Doesn't want 2 \\\"turn boys in2 girls\\\" WTF ?@ChrisLarson82\",\n",
    "                   \"the fact that there are 4958239689587 cute boys in the world and 0% go to my school i am sick of this shit\"]"
   ]
  }
 ],
 "metadata": {
  "kernelspec": {
   "display_name": "tf",
   "language": "python",
   "name": "python3"
  },
  "language_info": {
   "codemirror_mode": {
    "name": "ipython",
    "version": 3
   },
   "file_extension": ".py",
   "mimetype": "text/x-python",
   "name": "python",
   "nbconvert_exporter": "python",
   "pygments_lexer": "ipython3",
   "version": "3.9.16"
  },
  "orig_nbformat": 4
 },
 "nbformat": 4,
 "nbformat_minor": 2
}
